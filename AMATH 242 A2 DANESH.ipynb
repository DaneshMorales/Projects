{
 "cells": [
  {
   "cell_type": "markdown",
   "id": "b57018f3",
   "metadata": {},
   "source": [
    "# AMATH 242 ASSIGNMENT 2"
   ]
  },
  {
   "cell_type": "markdown",
   "id": "d5caae0b",
   "metadata": {},
   "source": [
    "## Danesh Morales"
   ]
  },
  {
   "cell_type": "markdown",
   "id": "48ab2a9d",
   "metadata": {},
   "source": [
    "### Question 2"
   ]
  },
  {
   "cell_type": "code",
   "execution_count": 1,
   "id": "af22f0a4",
   "metadata": {},
   "outputs": [],
   "source": [
    "import numpy as np\n",
    "import matplotlib.pyplot as plt\n",
    "import pandas as pd\n",
    "from scipy import sparse"
   ]
  },
  {
   "cell_type": "code",
   "execution_count": 2,
   "id": "3dc514bd",
   "metadata": {},
   "outputs": [],
   "source": [
    "\n",
    "def PageRank(G, alpha):\n",
    "\n",
    "    tolerance = 1e-8\n",
    "    G2 = G.copy()\n",
    "    R = G.shape[1]\n",
    "\n",
    "    ## Transform adjacency matrix to probability matrix and add the d vector right away\n",
    "\n",
    "    for i in range(R):\n",
    "\n",
    "        col_i = G2.getcol(i)\n",
    "        i_non_zeroes = col_i.count_nonzero()\n",
    "\n",
    "        if i_non_zeroes == 0:\n",
    "            G2[0:R, i] = 1/R\n",
    "        else:\n",
    "            G2[0:R, i] = col_i/i_non_zeroes\n",
    "\n",
    "    e = np.ones(R)\n",
    "    first_p = e/R ## Uniform distribution in p\n",
    "    G3 = G.copy()\n",
    "    G3[:, :] = (1 - alpha) / R\n",
    "    M = alpha*G2 + G3\n",
    "    n = 0\n",
    "    repeat = True\n",
    "\n",
    "    while repeat:\n",
    "\n",
    "        n += 1\n",
    "        newp = M.dot(first_p)\n",
    "\n",
    "        repeat = False\n",
    "\n",
    "        for i in range(R):\n",
    "            if np.abs(newp[i]-first_p[i]) > tolerance:\n",
    "                repeat = True\n",
    "                break\n",
    "\n",
    "        first_p = newp\n",
    "\n",
    "        if not repeat:\n",
    "            break\n",
    "\n",
    "    return first_p, n"
   ]
  },
  {
   "cell_type": "markdown",
   "id": "307fe397",
   "metadata": {},
   "source": [
    "Qb (i)"
   ]
  },
  {
   "cell_type": "code",
   "execution_count": 6,
   "id": "a027b1ac",
   "metadata": {},
   "outputs": [],
   "source": [
    "G = sparse.dok_matrix((11, 11), dtype=np.float32)\n",
    "\n",
    "G[1, 0] = 1\n",
    "G[4, 0] = 1\n",
    "G[3, 0] = 1\n",
    "G[2, 0] = 1\n",
    "G[0, 1] = 1\n",
    "G[4, 1] = 1\n",
    "G[3, 1] = 1\n",
    "G[2, 1] = 1\n",
    "G[5, 1] = 1\n",
    "G[10, 1] = 1\n",
    "G[1, 2] = 1\n",
    "G[0, 2] = 1\n",
    "G[4, 2] = 1\n",
    "G[3, 2] = 1\n",
    "G[4, 3] = 1\n",
    "G[0, 3] = 1\n",
    "G[1, 3] = 1\n",
    "G[2, 3] = 1\n",
    "G[0, 4] = 1\n",
    "G[1, 4] = 1\n",
    "G[2, 4] = 1\n",
    "G[3, 4] = 1\n",
    "G[1, 5] = 1\n",
    "G[6, 5] = 1\n",
    "G[7, 5] = 1\n",
    "G[8, 5] = 1\n",
    "G[9, 5] = 1\n",
    "G[10, 5] = 1\n",
    "G[5, 6] = 1\n",
    "G[5, 7] = 1\n",
    "G[5, 8] = 1\n",
    "G[5, 9] = 1\n",
    "G[5, 10] = 1\n",
    "G[1, 10] = 1"
   ]
  },
  {
   "cell_type": "markdown",
   "id": "9e9f259d",
   "metadata": {},
   "source": [
    "Qb (ii)"
   ]
  },
  {
   "cell_type": "code",
   "execution_count": 8,
   "id": "01754a89",
   "metadata": {},
   "outputs": [
    {
     "data": {
      "text/plain": [
       "(array([0.09819909, 0.15501742, 0.09819909, 0.09819909, 0.09819909,\n",
       "        0.21192825, 0.04365954, 0.04365954, 0.04365954, 0.04365954,\n",
       "        0.06562034]),\n",
       " 58)"
      ]
     },
     "execution_count": 8,
     "metadata": {},
     "output_type": "execute_result"
    }
   ],
   "source": [
    "p, iters = PageRank(G, alpha = 0.85)\n",
    "\n",
    "p, iters"
   ]
  },
  {
   "cell_type": "code",
   "execution_count": 11,
   "id": "62ec95f1",
   "metadata": {},
   "outputs": [
    {
     "data": {
      "image/png": "[encoded data removed]",
      "text/plain": [
       "<Figure size 432x288 with 1 Axes>"
      ]
     },
     "metadata": {
      "needs_background": "light"
     },
     "output_type": "display_data"
    }
   ],
   "source": [
    "plt.stem(p)\n",
    "plt.xlabel(\"Index of Vector\")\n",
    "plt.ylabel(\"Probability\")\n",
    "plt.show()"
   ]
  },
  {
   "cell_type": "markdown",
   "id": "8b600572",
   "metadata": {},
   "source": [
    "Q b (iii)"
   ]
  },
  {
   "cell_type": "code",
   "execution_count": 23,
   "id": "515fa40c",
   "metadata": {
    "scrolled": true
   },
   "outputs": [
    {
     "data": {
      "image/png": "[encoded data removed]",
      "text/plain": [
       "<Figure size 432x288 with 1 Axes>"
      ]
     },
     "metadata": {
      "needs_background": "light"
     },
     "output_type": "display_data"
    }
   ],
   "source": [
    "iterations = []\n",
    "\n",
    "alpha = np.arange(0,1.05,0.05)\n",
    "\n",
    "for x in alpha:\n",
    "    p, iters = PageRank(G,x)\n",
    "    iterations.append(iters)\n",
    "    \n",
    "plt.plot(alpha, iterations)\n",
    "plt.title(\"Iterations vs Alpha\")\n",
    "plt.show()"
   ]
  },
  {
   "cell_type": "markdown",
   "id": "00c1baac",
   "metadata": {},
   "source": [
    "The higher the alpha, the more iterations we need in order to converge, we can see that it grows exponentially"
   ]
  },
  {
   "cell_type": "markdown",
   "id": "7ff4fdb5",
   "metadata": {},
   "source": [
    "Qb (iv)"
   ]
  },
  {
   "cell_type": "code",
   "execution_count": 25,
   "id": "59ec32be",
   "metadata": {},
   "outputs": [
    {
     "data": {
      "image/png": "[encoded data removed]",
      "text/plain": [
       "<Figure size 432x288 with 1 Axes>"
      ]
     },
     "metadata": {
      "needs_background": "light"
     },
     "output_type": "display_data"
    }
   ],
   "source": [
    "p, iters = PageRank(G, alpha = 0.05) ##Alpha = 0.05\n",
    "\n",
    "plt.stem(p)\n",
    "plt.show()\n"
   ]
  },
  {
   "cell_type": "code",
   "execution_count": 26,
   "id": "3c7f3078",
   "metadata": {},
   "outputs": [
    {
     "data": {
      "image/png": "[encoded data removed]",
      "text/plain": [
       "<Figure size 432x288 with 1 Axes>"
      ]
     },
     "metadata": {
      "needs_background": "light"
     },
     "output_type": "display_data"
    }
   ],
   "source": [
    "p, iters = PageRank(G, alpha = 0.95) ##Alpha = 0.95\n",
    "\n",
    "plt.stem(p)\n",
    "plt.show()"
   ]
  },
  {
   "cell_type": "markdown",
   "id": "06d9d809",
   "metadata": {},
   "source": [
    "We can see that for small alpha, the probability for each node is very close to be uniformly distributed, whereas for high alpha, by inspection the probability is close to being proportional to the amount of links each node has. Still, for small alpha we can clearly see that the nodes that have the most links, have a higher probability, but just slightly."
   ]
  }
 ],
 "metadata": {
  "kernelspec": {
   "display_name": "Python 3 (ipykernel)",
   "language": "python",
   "name": "python3"
  },
  "language_info": {
   "codemirror_mode": {
    "name": "ipython",
    "version": 3
   },
   "file_extension": ".py",
   "mimetype": "text/x-python",
   "name": "python",
   "nbconvert_exporter": "python",
   "pygments_lexer": "ipython3",
   "version": "3.9.12"
  }
 },
 "nbformat": 4,
 "nbformat_minor": 5
}
